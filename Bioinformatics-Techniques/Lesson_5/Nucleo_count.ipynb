{
 "cells": [
  {
   "cell_type": "code",
   "execution_count": 1,
   "metadata": {},
   "outputs": [],
   "source": [
    "import re\n",
    "import matplotlib.pyplot as plt"
   ]
  },
  {
   "cell_type": "code",
   "execution_count": 2,
   "metadata": {},
   "outputs": [],
   "source": [
    "def get_data_from_fastq(path_to_fastq):\n",
    "    with open(path_to_fastq, 'rt') as fastq_file:\n",
    "        for number, line in enumerate(fastq_file):\n",
    "            if number%4 == 1:\n",
    "                yield line"
   ]
  },
  {
   "cell_type": "code",
   "execution_count": 3,
   "metadata": {},
   "outputs": [],
   "source": [
    "def count_nucleotides(path):\n",
    "    counts = {}\n",
    "    for line in get_data_from_fastq(path):\n",
    "        for letter in line:\n",
    "            try:\n",
    "                counts[letter] +=1\n",
    "            except:\n",
    "                counts[letter] = 1\n",
    "    return counts"
   ]
  },
  {
   "cell_type": "code",
   "execution_count": 4,
   "metadata": {},
   "outputs": [
    {
     "name": "stdout",
     "output_type": "stream",
     "text": [
      "Sekwencja 1 zawiera nukleotydy {'G': 30797150, 'T': 29819108, 'A': 29765844, 'C': 30666797, '\\n': 634491, 'N': 115353}\n"
     ]
    }
   ],
   "source": [
    "print(\"Sekwencja 1 zawiera nukleotydy {}\".format(count_nucleotides('./pierwsze.fastq')))"
   ]
  },
  {
   "cell_type": "code",
   "execution_count": 5,
   "metadata": {},
   "outputs": [
    {
     "name": "stdout",
     "output_type": "stream",
     "text": [
      "Sekwencja 2 zawiera nukleotydy {'G': 91568191, 'C': 91203951, 'T': 88580295, 'A': 88405198, '\\n': 1841259, 'N': 256264}\n"
     ]
    }
   ],
   "source": [
    "print(\"Sekwencja 2 zawiera nukleotydy {}\".format(count_nucleotides('./drugie.fastq')))"
   ]
  },
  {
   "cell_type": "code",
   "execution_count": null,
   "metadata": {},
   "outputs": [],
   "source": []
  }
 ],
 "metadata": {
  "kernelspec": {
   "display_name": "Python 3",
   "language": "python",
   "name": "python3"
  },
  "language_info": {
   "codemirror_mode": {
    "name": "ipython",
    "version": 3
   },
   "file_extension": ".py",
   "mimetype": "text/x-python",
   "name": "python",
   "nbconvert_exporter": "python",
   "pygments_lexer": "ipython3",
   "version": "3.8.5"
  }
 },
 "nbformat": 4,
 "nbformat_minor": 4
}
