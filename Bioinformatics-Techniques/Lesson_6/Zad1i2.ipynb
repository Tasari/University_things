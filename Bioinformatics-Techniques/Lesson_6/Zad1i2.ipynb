{
 "cells": [
  {
   "cell_type": "code",
   "execution_count": 1,
   "metadata": {},
   "outputs": [],
   "source": [
    "import requests"
   ]
  },
  {
   "cell_type": "code",
   "execution_count": 2,
   "metadata": {},
   "outputs": [],
   "source": [
    "def get_data_from_RCSB(pdb_id):\n",
    "    rcsb_url = f'https://files.rcsb.org/view/{pdb_id.upper()}.pdb'\n",
    "    \n",
    "    response = requests.get(rcsb_url)\n",
    "    \n",
    "    if response.ok:\n",
    "        return [dataline.strip() for dataline in response.text.split('\\n')]\n",
    "    else:\n",
    "        return []"
   ]
  },
  {
   "cell_type": "code",
   "execution_count": 3,
   "metadata": {},
   "outputs": [],
   "source": [
    "pdb_data = get_data_from_RCSB('1LKX')"
   ]
  },
  {
   "cell_type": "code",
   "execution_count": 4,
   "metadata": {},
   "outputs": [],
   "source": [
    "def change_aa_to_symbols(seq):\n",
    "    seqlist = seq.split()\n",
    "    sym = ''\n",
    "    d = {'CYS': 'C', 'ASP': 'D', 'SER': 'S', 'GLN': 'Q', 'LYS': 'K',\n",
    "     'ILE': 'I', 'PRO': 'P', 'THR': 'T', 'PHE': 'F', 'ASN': 'N', \n",
    "     'GLY': 'G', 'HIS': 'H', 'LEU': 'L', 'ARG': 'R', 'TRP': 'W', \n",
    "     'ALA': 'A', 'VAL':'V', 'GLU': 'E', 'TYR': 'Y', 'MET': 'M'}\n",
    "    for aa in seqlist:\n",
    "        sym += d[aa]\n",
    "    return sym\n",
    "\n",
    "def get_helix(data):\n",
    "    helix = {}\n",
    "    \n",
    "    for line in data:\n",
    "        if line.startswith('HELIX'):\n",
    "            chain = line[19]\n",
    "            \n",
    "            init_res_ind = int(line[21:25].strip())\n",
    "        \n",
    "            term_res_ind = int(line[33:37].strip())\n",
    "            if chain in helix:\n",
    "                helix[chain].append((init_res_ind, term_res_ind))\n",
    "            else:\n",
    "                helix[chain] = [(init_res_ind, term_res_ind)]\n",
    "    return helix\n",
    "\n",
    "def get_sheet(data):\n",
    "    sheet = {}\n",
    "\n",
    "    for line in data:\n",
    "        if line.startswith('SHEET'):\n",
    "            chain = line[21]\n",
    "            \n",
    "            init_res_ind = int(line[22:26].strip())\n",
    "\n",
    "            term_res_ind = int(line[33:37].strip())\n",
    "\n",
    "            if chain in sheet:\n",
    "                sheet[chain].append((init_res_ind, term_res_ind))\n",
    "\n",
    "            else:\n",
    "                sheet[chain] = [(init_res_ind, term_res_ind)]\n",
    "\n",
    "    return sheet\n",
    "\n",
    "def get_seqres(data):\n",
    "    seq = {}\n",
    "    \n",
    "    for line in pdb_data:\n",
    "        if line.startswith('SEQRES'):\n",
    "            chain = line[11]\n",
    "            sequence = change_aa_to_symbols(line[19:])\n",
    "            if chain in seq:\n",
    "                seq[chain] += sequence\n",
    "            else:\n",
    "                seq[chain] = sequence\n",
    "    return seq\n",
    "\n",
    "def get_atom(data):\n",
    "    atom = {}\n",
    "    \n",
    "    for line in pdb_data:\n",
    "        if line.startswith('ATOM') and line[12:16].strip() == 'CA':\n",
    "            chain = line[21]\n",
    "            aa = line[17:20]\n",
    "            if chain in atom:\n",
    "                atom[chain] += change_aa_to_symbols(aa)\n",
    "            else:\n",
    "                atom[chain] = change_aa_to_symbols(aa)\n",
    "    return atom"
   ]
  },
  {
   "cell_type": "code",
   "execution_count": 5,
   "metadata": {},
   "outputs": [],
   "source": [
    "def get_secondary_seq(helix, sheet, atom):\n",
    "    secondary = {}\n",
    "    actual_chain = None\n",
    "    for chain, seq in atom.items():\n",
    "        secondary[chain] = list('C'*len(atom[chain]))\n",
    "    for chain in secondary.keys():\n",
    "        for helix_pla in helix[chain]:\n",
    "            for place in range(helix_pla[0], helix_pla[1]+1):\n",
    "                try:\n",
    "                    secondary[chain][place] = 'H'\n",
    "                except IndexError:\n",
    "                    pass\n",
    "        for sheet_pla in sheet[chain]:\n",
    "            for place in range(sheet_pla[0], sheet_pla[1]+1):\n",
    "                try:\n",
    "                    secondary[chain][place] = 'E'\n",
    "                except IndexError:\n",
    "                    pass\n",
    "        secondary[chain] = ''.join(secondary[chain])\n",
    "    return secondary"
   ]
  },
  {
   "cell_type": "code",
   "execution_count": 6,
   "metadata": {},
   "outputs": [
    {
     "data": {
      "text/plain": [
       "{'A': 'CCCCCCCCCCCCHHHHHCCCHHHHHHHHHHHHHHHCCCEEECCCCEEEECCCCCCCCCHHHHHHHHHCCHHHHHCCHHHHHHHHHHHHHHHHHCCEEEEEECCCCCHHHHHHHHHHHHHHHHHCCCHHHHHHHHHHHHHHHHHHHHHHHCCCCCCCCCCCCEEEEEEEECCCCCEEEEEEEEECCHHHHHHCCCCCCCCHHHHHHHHHCCHHHHHHHHHCCCHHHHHHHHHHCCCCCCCCCHHHHHHHHHHHHHHHHCCHHHHHHHHHHHHHHHHHHHCCCEEEECCCCCCCCEEEECHHHHHHHHHHHHHCHHHHHHHHHHHCCCCCCCCCCCCCCCCCCHHHHHHHHHHHHHHHHHHHHHHHHHHHHHHHHHCCCCCCCEEEEEECCCCCCCCCCHHHHHHHHHHHHHHHHHHHHHHHHHHHHHHHHHCCCCCCCCCCCCHHHHHHHCCCCCHHHHHHHHHHHHCCCHHHHHHHHHHHHHCCCCCEECCCCCCCCCCCCCEEEEEECCEEEEEECCHHHHHHHHCCHHHHHHHHHHCCHHHHHHHHCCCCCCCCCCCCCHHHHHHHHHHHHHHHHHHCCEEEEEEEECCCCCCCCCCCHHHHHHHHHHHHCHHHHHHHHHHHCCCCCCHHHHHHCCCCCCCCCCCCCC',\n",
       " 'B': 'CCCCCCCCCCCCHHHHHCCCHHHHHHHHHHHHHHHCCCEEECCCCEEEECCCCCCCCCHHHHHHHHHCCHHHHHCCHHHHHHHHHHHHHHHHHCCEEEEEECCCCCHHHHHHHHHHHHHHHHHCCCHHHHHHHHHHHHHHHHHHHHHHHCCCCCCCCCCCCEEEEEEEECCCCCEEEEEEEEECCHHHHHHCCCCCCCCHHHHHHHHHCCHHHHHHHHHCCCHHHHHHHHHHCCCCCCCCCHHHHHHHHHHHHHHHHCCHHHHHHHHHHHHHHHHHHHCCCEEEECCCCCCCCEEEECHHHHHHHHHHHHHCHHHHHHHHHHHCCCCCCCCCCCCCCCCCCHHHHHHHHHHHHHHHHHHHHHHHHHHHHHHHHHCCCCCCCEEEEEECCCCCCCCCCHHHHHHHHHHHHHHHHHHHHHHHHHHHHHHHHCCCCCCCCCCCCCHHHHHHHCCCCCHHHHHHHHHHHHCCCHHHHHHHHHHHHHCCCCCEECCCCCCCCCCCCCEEEEEECCEEEEEECCHHHHHHHHCCHHHHHHHHHHCCHHHHHHHHCCCCCCCCCCCCCHHHHHHHHHHHHHHHHHHCCEEEEEEEECCCCCCCCCCCHHHHHHHHHHHHHHHHHHHHHHHHCCCEECCCCCCCCCCCCCCCCCCCCC',\n",
       " 'C': 'CCCCCCCCCCCCHHHHHCCCHHHHHHHHHHHHHHHCCCEEECCCCEEEECCCCCCCCCHHHHHHHHHCCHHHHHCCHHHHHHHHHHHHHHHHHCCEEEEEECCCCCHHHHHHHHHHHHHHHHHCCCHHHHHHHHHHHHHHHHHHHHHHHCCCCCCCCCCCCEEEEEEEECCCCCEEEEEEEEECCHHHHHHCCCCCCCCHHHHHHHHHCCHHHHHHHHHCCCHHHHHHHHHHCCCCCCCCCHHHHHHHHHHHHHHHHCCHHHHHHHHHHHHHHHHHHHCCCEEEECCCCCCCCEEEECHHHHHHHHHHHHHCHHHHHHHHHHHCCCCCCCCCCCCCCCCCCHHHHHHHHHHHHHHHHHHHHHHHHHHHHHHHHHCCCCCCCEEEEEECCCCCCCCCCHHHHHHHHHHHHHHHHHHHHHHHHHHHHHHHHHCCCCCCCCCCCCHHHHHHHCCCCCHHHHHHHHHHHHCCCHHHHHHHHHHHHHCCCCCEECCCCCCCCCCCCCEEEEEECCEEEEEECCHHHHHHHHCCHHHHHHHHHHCCHHHHHHHHCCCCCCCCCCCCCHHHHHHHHHHHHHHHHHHCCEEEEEEEECCCCCCCCCCCHHHHHHHHHHHHHHHHHHHHHHHHCCEEEEHHHHHHCHHHHHCCCCCCCCCHHHHHHHHHHHHCCCCCCCEEECCCEEE',\n",
       " 'D': 'CCCCCCCCCCCCHHHHHCCCHHHHHHHHHHHHHHHCCCEEECCCCEEEECCCCCCCCCHHHHHHHHHCCHHHHHCCHHHHHHHHHHHHHHHHHCCEEEEEECCCCCHHHHHHHHHHHHHHHHHCCCHHHHHHHHHHHHHHHHHHHHHHHCCCCCCCCCCCCEEEEEEEECCCCCEEEEEEEEECCHHHHHHCCCCCCCCHHHHHHHHHCCHHHHHHHHHCCCHHHHHHHHHHCCCCCCCCCHHHHHHHHHHHHHHHHCCHHHHHHHHHHHHHHHHHHHCCCEEEECCCCCCCCEEEECHHHHHHHHHHHHHCHHHHHHHHHHHCCCCCCCCCCCCCCCCCCHHHHHHHHHHHHHHHHHHHHHHHHHHHHHHHHHCCCCCCCEEEEEECCCCCCCCCCHHHHHHHHHHHHHHHHHHHHHHHHHHHHHHHHHHCCCCCCCCCCCHHHHHHHCCCCCHHHHHHHHHHHHCCCHHHHHHHHHHHHHCCCCCEECCCCCCCCCCCCCEEEEEECCEEEEEECCHHHHHHHHCCHHHHHHHHHHCCHHHHHHHHCCCCCCCCCCCCCHHHHHHHHHHHHHHHHHHCCEEEEEEEECCCCCCCCCCCHHHHHHHHHHHHHHHHHHHHHHHHCCEEEHHHHHHHHHHHHHCCCCCCCCCHHHHHHHHH'}"
      ]
     },
     "execution_count": 6,
     "metadata": {},
     "output_type": "execute_result"
    }
   ],
   "source": [
    "get_secondary_seq(get_helix(pdb_data), get_sheet(pdb_data), get_atom(pdb_data))"
   ]
  },
  {
   "cell_type": "code",
   "execution_count": 7,
   "metadata": {},
   "outputs": [],
   "source": [
    "def compare_seqres_and_atom(seqres, atom):\n",
    "    final = {}\n",
    "    for chain in seqres.keys():\n",
    "        final[chain] = ''\n",
    "        for letter in seqres[chain]:\n",
    "            if letter == atom[chain][0]:\n",
    "                final[chain] += letter\n",
    "                atom[chain] = atom[chain][1:]\n",
    "                if len(atom[chain]) == 0:\n",
    "                    atom[chain] = [None]\n",
    "            else:\n",
    "                final[chain] += '-'\n",
    "    return final"
   ]
  },
  {
   "cell_type": "code",
   "execution_count": 8,
   "metadata": {},
   "outputs": [
    {
     "data": {
      "text/plain": [
       "{'A': '--------GVPDFVLLNQITENAFIENLTMRHKSDNIYTYIGDVVISTNPFKNLNIYKESDIKAYNGRYKYEMPPHMYALANDAYRSMRQSQENQCVIISGESGAGKTEASKKIMQFLTFVSSNQSPNGERISKMLLDSNPLLEAFGNAKTLRNDNSSRFGKYMEMQFNAVGSPIGGKITNYLLEKSRVVGRTQGERSFHIFYQMLKGLSQSKLDELGLTPNAPAYEYLKKSGCFDVSTIDDSGEFKIIVKAMETLGLKESDQNSIWRILAAILHIGNITFAEAAEQ-T-T--VKVSDTKSLAAAASCLKTDQQSLSIALCYRS----V------ISVPMDCNQAAYSRDALAKALYERLFNWLVSKINTIINCTTEKGPVIGILDIYGFEVFQNNSFEQLNINFCNEKLQQLFIELTLKSEQEEYVREGIEWKNIEYFNNKPICELIEKKPIGLISLLDEACLIAKSTDQTFLDSICKQFEKNPHLQSYVVSKDRSIGDTCFRLKHYAGDVTYDVRGFLDKNKDTLFGDLISSMQSSSDPLVQGLFP----E-------TAGSQFRNAMNALITTLLACSPHYVRCIKSNDNKQAGVIDEDRVRHQVRYLGLLENVRVRRAGFAGRIEYTRFYNRYKMLCKK---------KQATELILQQHNIDKEEIRMGKTKVFIRNPTTLFYFEEKR-----',\n",
       " 'B': '--------GVPDFVLLNQITENAFIENLTMRHKSDNIYTYIGDVVISTNPFKNLNIYKESDIKAYNGRYKYEMPPHMYALANDAYRSMRQSQENQCVIISGESGAGKTEASKKIMQFLTFVSSNQSPNGERISKMLLDSNPLLEAFGNAKTLRNDNSSRFGKYMEMQFNAVGSPIGGKITNYLLEKSRVVGRTQGERSFHIFYQMLKGLSQSKLDELGLTPNAPAYEYLKKSGCFDVSTIDDSGEFKIIVKAMETLGLKESDQNSIWRILAAILHIGNITFAEAAEQ-T-T--VKVSDTKSLAAAASCLKTDQQSLSIALCYRS----V------ISVPMDCNQAAYSRDALAKALYERLFNWLVSKINTIINCTTEKGPVIGILDIYGFEVFQNNSFEQLNINFCNEKLQQLFIELTLKSEQEEYVREGIEWKNIEYFNNKPICELIEKKPIGLISLLDEACLIAKSTDQTFLDSICKQFEKNPHLQSYVVSKDRSIGDTCFRLKHYAGDVTYDVRGFLDKNKDTLFGDLISSMQSSSDPLVQGLFP----E-------TAGSQFRNAMNALITTLLACSPHYVRCIKSNDNKQAGVIDEDRVRHQVRYLGLLENVRVRRAGFAGRIEYTRFYNRYKMLCK---------AKQATELILQQHNIDKEEIRMGKTKVFIRNPTTLFYFEEKR-----',\n",
       " 'C': '--------GVPDFVLLNQITENAFIENLTMRHKSDNIYTYIGDVVISTNPFKNLNIYKESDIKAYNGRYKYEMPPHMYALANDAYRSMRQSQENQCVIISGESGAGKTEASKKIMQFLTFVSSNQSPNGERISKMLLDSNPLLEAFGNAKTLRNDNSSRFGKYMEMQFNAVGSPIGGKITNYLLEKSRVVGRTQGERSFHIFYQMLKGLSQSKLDELGLTPNAPAYEYLKKSGCFDVSTIDDSGEFKIIVKAMETLGLKESDQNSIWRILAAILHIGNITFAEAAEQRTGTTTVKVSDTKSLAAAASCLKTDQQSLSIALCYRS----V------ISVPMDCNQAAYSRDALAKALYERLFNWLVSKINTIINCTTEKGPVIGILDIYGFEVFQNNSFEQLNINFCNEKLQQLFIELTLKSEQEEYVREGIEWKNIEYFNNKPICELIEKKPIGLISLLDEACLIAKSTDQTFLDSICKQFEKNPHLQSYVVSKDRSIGDTCFRLKHYAGDVTYDVRGFLDKNKDTLFGDLISSMQSSSDPLVQGLFPPTRPEDSKKRPETAGSQFRNAMNALITTLLACSPHYVRCIKSNDNKQAGVIDEDRVRHQVRYLGLLENVRVRRAGFAGRIEYTRFYNRYKMLCKKTWPSFNGTAKQATELILQQHNIDKEEIRMGKTKVFIRNPTTLFYFEEKRELEMP',\n",
       " 'D': '--------GVPDFVLLNQITENAFIENLTMRHKSDNIYTYIGDVVISTNPFKNLNIYKESDIKAYNGRYKYEMPPHMYALANDAYRSMRQSQENQCVIISGESGAGKTEASKKIMQFLTFVSSNQSPNGERISKMLLDSNPLLEAFGNAKTLRNDNSSRFGKYMEMQFNAVGSPIGGKITNYLLEKSRVVGRTQGERSFHIFYQMLKGLSQSKLDELGLTPNAPAYEYLKKSGCFDVSTIDDSGEFKIIVKAMETLGLKESDQNSIWRILAAILHIGNITFAEAAEQRTGTTTVKVSDTKSLAAAASCLKTDQQSLSIALCYRS----V------ISVPMDCNQAAYSRDALAKALYERLFNWLVSKINTIINCTTEKGPVIGILDIYGFEVFQNNSFEQLNINFCNEKLQQLFIELTLKSEQEEYVREGIEWKNIEYFNNKPICELIEKKPIGLISLLDEACLIAKSTDQTFLDSICKQFEKNPHLQSYVVSKDRSIGDTCFRLKHYAGDVTYDVRGFLDKNKDTLFGDLISSMQSSSDPLVQGLFP----E-------TAGSQFRNAMNALITTLLACSPHYVRCIKSNDNKQAGVIDEDRVRHQVRYLGLLENVRVRRAGFAGRIEYTRFYNRYKMLCKKT-------AKQATELILQQHNIDKEEIRMGKTKVFIRNPTTLFYFEEKRELEM-'}"
      ]
     },
     "execution_count": 8,
     "metadata": {},
     "output_type": "execute_result"
    }
   ],
   "source": [
    "compare_seqres_and_atom(get_seqres(pdb_data), get_atom(pdb_data))"
   ]
  },
  {
   "cell_type": "code",
   "execution_count": null,
   "metadata": {},
   "outputs": [],
   "source": []
  }
 ],
 "metadata": {
  "kernelspec": {
   "display_name": "Python 3",
   "language": "python",
   "name": "python3"
  },
  "language_info": {
   "codemirror_mode": {
    "name": "ipython",
    "version": 3
   },
   "file_extension": ".py",
   "mimetype": "text/x-python",
   "name": "python",
   "nbconvert_exporter": "python",
   "pygments_lexer": "ipython3",
   "version": "3.8.5"
  }
 },
 "nbformat": 4,
 "nbformat_minor": 4
}
