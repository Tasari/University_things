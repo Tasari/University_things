{
 "cells": [
  {
   "cell_type": "code",
   "execution_count": 1,
   "metadata": {},
   "outputs": [],
   "source": [
    "import re\n",
    "import matplotlib.pyplot as plt\n",
    "from collections import Counter"
   ]
  },
  {
   "cell_type": "code",
   "execution_count": 2,
   "metadata": {},
   "outputs": [],
   "source": [
    "def get_data_from_fasta(path_to_fasta):\n",
    "    uniprot_ids = []\n",
    "    data = ''\n",
    "    \n",
    "    with open(path_to_fasta, 'rt') as fasta_file:\n",
    "        for line in fasta_file:\n",
    "            if line.startswith('>'):\n",
    "                match = re.search(r'\\|(.+)\\|', line)\n",
    "                \n",
    "                if match:\n",
    "                    uniprot_ids.append(match.group(1))\n",
    "            data += line\n",
    "        \n",
    "    data_as_list = re.split(r'>.*\\n', data)\n",
    "    data_as_list = [sequence.replace('\\n', '') for sequence in data_as_list if sequence]\n",
    "    \n",
    "    return uniprot_ids, data_as_list"
   ]
  },
  {
   "cell_type": "code",
   "execution_count": 3,
   "metadata": {},
   "outputs": [],
   "source": [
    "clustalo_align = get_data_from_fasta(\"./clustalo_results.fasta\")\n",
    "muscle_align = get_data_from_fasta(\"./muscle_results.fasta\")\n",
    "mafft_align = get_data_from_fasta(\"./mafft_results.fasta\")"
   ]
  },
  {
   "cell_type": "code",
   "execution_count": 4,
   "metadata": {},
   "outputs": [],
   "source": [
    "def count_gaps(fasta_sequence):\n",
    "    gaps = 0\n",
    "    for letter in fasta_sequence:\n",
    "        if letter == '-':\n",
    "            gaps += 1\n",
    "    return gaps"
   ]
  },
  {
   "cell_type": "code",
   "execution_count": 5,
   "metadata": {},
   "outputs": [],
   "source": [
    "def count_longest_gap(fasta_sequence):\n",
    "    longest_gap = 0\n",
    "    counter = 0\n",
    "    gap=0\n",
    "    for letter in fasta_sequence:\n",
    "        if letter == '-' and counter==1:\n",
    "            gap += 1\n",
    "        elif letter == '-' and counter==0:\n",
    "            counter=1\n",
    "            gap=0\n",
    "        else:\n",
    "            counter=0\n",
    "            if longest_gap<gap:\n",
    "                longest_gap = gap\n",
    "    return longest_gap    "
   ]
  },
  {
   "cell_type": "code",
   "execution_count": 6,
   "metadata": {},
   "outputs": [],
   "source": [
    "aligns = {\"clustalo_align\":clustalo_align, \"muscle_align\":muscle_align, \"mafft_align\":mafft_align}"
   ]
  },
  {
   "cell_type": "code",
   "execution_count": 7,
   "metadata": {},
   "outputs": [
    {
     "data": {
      "text/plain": [
       "Text(0.5, 1.0, 'Gaps')"
      ]
     },
     "execution_count": 7,
     "metadata": {},
     "output_type": "execute_result"
    },
    {
     "data": {
      "image/png": "[encoded data removed]",
      "text/plain": [
       "<Figure size 432x288 with 1 Axes>"
      ]
     },
     "metadata": {
      "needs_background": "light"
     },
     "output_type": "display_data"
    }
   ],
   "source": [
    "for name, align in aligns.items():\n",
    "    gaps = sum([count_gaps(x[1]) for x in align])\n",
    "    plt.bar(x=name, height=gaps)\n",
    "plt.title(\"Gaps\")"
   ]
  },
  {
   "cell_type": "code",
   "execution_count": 12,
   "metadata": {},
   "outputs": [
    {
     "data": {
      "text/plain": [
       "Text(0.5, 1.0, 'Longest Gap')"
      ]
     },
     "execution_count": 12,
     "metadata": {},
     "output_type": "execute_result"
    },
    {
     "data": {
      "image/png": "[encoded data removed]",
      "text/plain": [
       "<Figure size 432x288 with 1 Axes>"
      ]
     },
     "metadata": {
      "needs_background": "light"
     },
     "output_type": "display_data"
    }
   ],
   "source": [
    "for name, align in aligns.items():\n",
    "    longest_gap = max([count_longest_gap(x[1]) for x in align])\n",
    "    plt.bar(x=name, height=longest_gap)\n",
    "plt.title(\"Longest Gap\")"
   ]
  },
  {
   "cell_type": "code",
   "execution_count": 13,
   "metadata": {
    "scrolled": true
   },
   "outputs": [],
   "source": [
    "def create_consensus_sequence(list_of_fasta_sequences):\n",
    "    letters_list = []\n",
    "    consensus = ''\n",
    "    for i in range(len(list_of_fasta_sequences[0])):\n",
    "        for sequence in list_of_fasta_sequences:\n",
    "            letters_list.append(sequence[i])\n",
    "        counter = Counter(letters_list)\n",
    "        most_commons = counter.most_common()\n",
    "        most_common_count = most_commons[0][1]\n",
    "        more_than_one_most_common = '('\n",
    "        if len(most_commons)>1:\n",
    "            if most_commons[0][1] == most_commons[1][1]:\n",
    "                for most_common in most_commons:\n",
    "                    if most_common[1] == most_common_count:\n",
    "                        more_than_one_most_common += most_common[0]+'/'\n",
    "                else:\n",
    "                    consensus += more_than_one_most_common[:-1] + ')'\n",
    "                    letters_list = []\n",
    "                    continue\n",
    "        letters_list = []\n",
    "        consensus += counter.most_common(1)[0][0]\n",
    "\n",
    "    print(consensus)\n",
    "    return consensus"
   ]
  },
  {
   "cell_type": "code",
   "execution_count": 14,
   "metadata": {},
   "outputs": [
    {
     "name": "stdout",
     "output_type": "stream",
     "text": [
      "clustalo_align consensus:\n",
      "----------MGKIIGIDLGTTNSCVAVMEGGKPKVIENAEGARTTPSIIAYTDDG-ETLVGQPAKRQA-VTNP-KNTLFAIKRLIGRRFEDEEVQKDIK-IMPYKIVKADNGDAWVEVKGG-----KMAPPQISAEVLKKMKKTAEDYLGEPVTEAVITVPAYFNDAQRQATKDAGRIAGLEVKRIINEPTAAALAYGLDKKE----GDRTIAVYDLGGGTFDISIIEIA-VDGE-KQFEVLATNGDTFLGGEDFDNRLINYLVDEFKKEQ-GIDLRNDPLALQRLKEAAEKAKIELSSAQQTEVNLPYITADA----TGPKHLNIKLTRAKLESLVEDLVERTIEPCKVALKDAGLSV-SDIDDVILVGGQTRMPKVQEKVKEFFG-KEPRKDVNPDE-AVAIGAAIQGGVLSG--DVKDVLLLDVTPLSLGIETLGGVMTKLIEKNTTIPTKKSQVFSTAEDNQSAVTIHVLQGEREMAADNKSLGQFNLEGIPPAPRGMPQIEVTFDIDANGILHVSAKDKATGKEQKITIKASSGLSEEEIEKMVKDAEANAEEDKKFEELVQARNQADALVHSTRKSLEEAGD-KLPADEKEAIEAALKALE(E/T)ALKG--E-DKAAIEAKTQALAQASQKLGEAMYAQQQAQQG-----------------------A-AAAKKDDDVVDAEFEEVKDDK------------\n",
      "\n",
      "\n",
      "muscle_align consensus:\n",
      "----MG------KI-IGIDLGTTNSCVAVMEGGKPKVIENAEGARTTPSIIAY-TDDG-ETLVGQPAKR-QAVTNPKN-TLFAIKRLIGRRFEDEEVQKDI-KIMPYKIVKADNGDAWVEVKG-----KKMAPPQISAEVLKKMKKTAEDYLGEPVTEAVITVPAYFNDAQRQATKDAGRIAGLEVKRIINEPTAAALAYGLDK---KKG-DRTIAVYDLGGGTFDISIIEIAEVDGEK-QFEVLATNGDTFLGGEDFDNRLINYLVDEFKKEQ-GIDLRNDPLALQRLKEAAEKAKIELSSAQQTEVNLPYITAD-ATG---PKHLNIKLTRAKLESLVEDLVERTIEPCKVALKDAGLS-VSDIDDVILVGGQTRMPKVQEKVKEFF-GKEPRKDVNPDEAV-AIGAAIQGGVLSG--DVKDVLLLDVTPLSLGIETLGGVMTKLIEKNTTIPTKKSQVFSTAEDNQSAVTIHVLQGEREMAADNKSLGQFNLEGIPPAPRGMPQIEVTFDIDANGILHVSAKDKATGKEQKITIKASSGLSEEEIEKMVKDAEANAEEDKKFEELVQARNQADALVHSTRKSLEEAG-DKLPADEKEAIEAALKALE(T/E)AL-KGE--DKAAIEAKTQALAQASQKLGEAMY---AQQ---QA-----------AA-------------------G-----AAA----GAA------------KK----DDDVVDAEFEEVKD--DK------------\n",
      "\n",
      "\n",
      "mafft_align consensus:\n",
      "--------MG--KIIGIDLGTTNSCVAVMEGGKPKVIENAEGARTTPSIIAYTDDG-ETLVGQPAKR-QAVTNPKN-TLFAIKRLIGRRFEDEEVQKDI-KIMPYKIVKADNGDAWVEVK-----GKKM-APPQISAEVLKKMKKTAEDYLGEPVTEAVITVPAYFNDAQRQATKDAGRIAGLEVKRIINEPTAAALAYGLDKKK----GDRTIAVYDLGGGTFDISIIEIA-VDGE-KQFEVLATNGDTFLGGEDFDNRLINYLVDEF-KKEQ-GIDLRNDPLALQRLKEAAEKAKIELSSAQQTEVNLPYITADASG----PKHLNIKLTRAKLESLVEDLVERTIEPCKVALKDAGL-SVSDIDDVILVGGQTRMPKVQEKVKEFF-GKEPRKDVNPDEAV-AIGAAIQGGVLSG--DVKDVLLLDVTPLSLGIETLGGVMTKLIEKNTTIPTKKSQVFSTAEDNQSAVTIHVLQGEREMAADNKSLGQFNLEGIPPAPRGMPQIEVTFDIDANGILHVSAKDKATGKEQKITIKASSGLSEEEIEKMVKDAEANAEEDKKFEELVQARNQADALVHSTRKSLEEAG-DKLPADEKEAIEAALKALE(E/T)ALK--GE---DKAAIEAKTQALAQASQKLGEAMYAQQ-QA-QQG-A----------------------------------AAA---AAA-KKDDDVVDAEFEEV--KDD--K------------\n",
      "\n",
      "\n"
     ]
    }
   ],
   "source": [
    "for name, align in aligns.items():\n",
    "    print(name+\" consensus:\")\n",
    "    create_consensus_sequence([x for x in align[1]])\n",
    "    print(\"\\n\")"
   ]
  },
  {
   "cell_type": "code",
   "execution_count": 15,
   "metadata": {},
   "outputs": [
    {
     "name": "stdout",
     "output_type": "stream",
     "text": [
      "Sekwencja X przebadana w BLAST to \"Transcription Factor AP-2-beta\"\n"
     ]
    }
   ],
   "source": [
    "print(\"Sekwencja X przebadana w BLAST to \\\"Transcription Factor AP-2-beta\\\"\")"
   ]
  }
 ],
 "metadata": {
  "kernelspec": {
   "display_name": "Python 3",
   "language": "python",
   "name": "python3"
  },
  "language_info": {
   "codemirror_mode": {
    "name": "ipython",
    "version": 3
   },
   "file_extension": ".py",
   "mimetype": "text/x-python",
   "name": "python",
   "nbconvert_exporter": "python",
   "pygments_lexer": "ipython3",
   "version": "3.8.5"
  }
 },
 "nbformat": 4,
 "nbformat_minor": 4
}
